{
 "cells": [
  {
   "cell_type": "markdown",
   "id": "11a1819b-f8b7-4ab5-8eac-2a8a9bc949fd",
   "metadata": {},
   "source": [
    "## "
   ]
  },
  {
   "cell_type": "markdown",
   "id": "62eb679a-3cde-4a84-8391-568caf58e81f",
   "metadata": {},
   "source": [
    "## Walkthru sample notebook "
   ]
  },
  {
   "cell_type": "markdown",
   "id": "12eaf586-f93f-491a-89ae-b053d399f459",
   "metadata": {},
   "source": [
    "Here is how I calculate `1+1`:"
   ]
  },
  {
   "cell_type": "code",
   "execution_count": 1,
   "id": "b71dadcc-e464-486c-baef-c5d2b004b9f4",
   "metadata": {},
   "outputs": [
    {
     "data": {
      "text/plain": [
       "2"
      ]
     },
     "execution_count": 1,
     "metadata": {},
     "output_type": "execute_result"
    }
   ],
   "source": [
    "1+1"
   ]
  },
  {
   "cell_type": "code",
   "execution_count": 2,
   "id": "7156f706-79cc-434a-bbb9-f6be73a7e4e2",
   "metadata": {},
   "outputs": [],
   "source": [
    "from numpy import *"
   ]
  },
  {
   "cell_type": "markdown",
   "id": "810b6d29-6690-425d-b7d7-181bf4c9c813",
   "metadata": {},
   "source": [
    "Here is how I calculate `pi`:"
   ]
  },
  {
   "cell_type": "code",
   "execution_count": 3,
   "id": "12337650-2307-49c4-a888-826921ae51a6",
   "metadata": {},
   "outputs": [
    {
     "data": {
      "text/plain": [
       "array([0.84147098, 1.        ])"
      ]
     },
     "execution_count": 3,
     "metadata": {},
     "output_type": "execute_result"
    }
   ],
   "source": [
    "a = array([1.0, pi/2])\n",
    "\n",
    "sin(a)"
   ]
  },
  {
   "cell_type": "code",
   "execution_count": null,
   "id": "6bbd60cd-6e23-4609-b013-0f0d5c0be01d",
   "metadata": {},
   "outputs": [],
   "source": []
  }
 ],
 "metadata": {
  "kernelspec": {
   "display_name": "Python 3 (ipykernel)",
   "language": "python",
   "name": "python3"
  },
  "language_info": {
   "codemirror_mode": {
    "name": "ipython",
    "version": 3
   },
   "file_extension": ".py",
   "mimetype": "text/x-python",
   "name": "python",
   "nbconvert_exporter": "python",
   "pygments_lexer": "ipython3",
   "version": "3.12.4"
  }
 },
 "nbformat": 4,
 "nbformat_minor": 5
}
